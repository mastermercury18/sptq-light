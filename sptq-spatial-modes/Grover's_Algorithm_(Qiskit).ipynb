{
  "nbformat": 4,
  "nbformat_minor": 0,
  "metadata": {
    "colab": {
      "provenance": []
    },
    "kernelspec": {
      "name": "python3",
      "display_name": "Python 3"
    },
    "language_info": {
      "name": "python"
    }
  },
  "cells": [
    {
      "cell_type": "code",
      "execution_count": 1,
      "metadata": {
        "colab": {
          "base_uri": "https://localhost:8080/"
        },
        "id": "-oM4BkSJL4nA",
        "outputId": "2b126bfd-72a0-4b70-d96c-18012bd750d6"
      },
      "outputs": [
        {
          "output_type": "stream",
          "name": "stdout",
          "text": [
            "Collecting qiskit==1.4.2\n",
            "  Downloading qiskit-1.4.2-cp39-abi3-manylinux_2_17_x86_64.manylinux2014_x86_64.whl.metadata (12 kB)\n",
            "Collecting rustworkx>=0.15.0 (from qiskit==1.4.2)\n",
            "  Downloading rustworkx-0.16.0-cp39-abi3-manylinux_2_17_x86_64.manylinux2014_x86_64.whl.metadata (10 kB)\n",
            "Requirement already satisfied: numpy<3,>=1.17 in /usr/local/lib/python3.11/dist-packages (from qiskit==1.4.2) (2.0.2)\n",
            "Requirement already satisfied: scipy>=1.5 in /usr/local/lib/python3.11/dist-packages (from qiskit==1.4.2) (1.15.2)\n",
            "Requirement already satisfied: sympy>=1.3 in /usr/local/lib/python3.11/dist-packages (from qiskit==1.4.2) (1.13.1)\n",
            "Collecting dill>=0.3 (from qiskit==1.4.2)\n",
            "  Downloading dill-0.4.0-py3-none-any.whl.metadata (10 kB)\n",
            "Requirement already satisfied: python-dateutil>=2.8.0 in /usr/local/lib/python3.11/dist-packages (from qiskit==1.4.2) (2.9.0.post0)\n",
            "Collecting stevedore>=3.0.0 (from qiskit==1.4.2)\n",
            "  Downloading stevedore-5.4.1-py3-none-any.whl.metadata (2.3 kB)\n",
            "Requirement already satisfied: typing-extensions in /usr/local/lib/python3.11/dist-packages (from qiskit==1.4.2) (4.13.2)\n",
            "Collecting symengine<0.14,>=0.11 (from qiskit==1.4.2)\n",
            "  Downloading symengine-0.13.0-cp311-cp311-manylinux_2_17_x86_64.manylinux2014_x86_64.whl.metadata (1.2 kB)\n",
            "Requirement already satisfied: six>=1.5 in /usr/local/lib/python3.11/dist-packages (from python-dateutil>=2.8.0->qiskit==1.4.2) (1.17.0)\n",
            "Collecting pbr>=2.0.0 (from stevedore>=3.0.0->qiskit==1.4.2)\n",
            "  Downloading pbr-6.1.1-py2.py3-none-any.whl.metadata (3.4 kB)\n",
            "Requirement already satisfied: mpmath<1.4,>=1.1.0 in /usr/local/lib/python3.11/dist-packages (from sympy>=1.3->qiskit==1.4.2) (1.3.0)\n",
            "Requirement already satisfied: setuptools in /usr/local/lib/python3.11/dist-packages (from pbr>=2.0.0->stevedore>=3.0.0->qiskit==1.4.2) (75.2.0)\n",
            "Downloading qiskit-1.4.2-cp39-abi3-manylinux_2_17_x86_64.manylinux2014_x86_64.whl (6.8 MB)\n",
            "\u001b[2K   \u001b[90m━━━━━━━━━━━━━━━━━━━━━━━━━━━━━━━━━━━━━━━━\u001b[0m \u001b[32m6.8/6.8 MB\u001b[0m \u001b[31m51.8 MB/s\u001b[0m eta \u001b[36m0:00:00\u001b[0m\n",
            "\u001b[?25hDownloading dill-0.4.0-py3-none-any.whl (119 kB)\n",
            "\u001b[2K   \u001b[90m━━━━━━━━━━━━━━━━━━━━━━━━━━━━━━━━━━━━━━━━\u001b[0m \u001b[32m119.7/119.7 kB\u001b[0m \u001b[31m5.5 MB/s\u001b[0m eta \u001b[36m0:00:00\u001b[0m\n",
            "\u001b[?25hDownloading rustworkx-0.16.0-cp39-abi3-manylinux_2_17_x86_64.manylinux2014_x86_64.whl (2.1 MB)\n",
            "\u001b[2K   \u001b[90m━━━━━━━━━━━━━━━━━━━━━━━━━━━━━━━━━━━━━━━━\u001b[0m \u001b[32m2.1/2.1 MB\u001b[0m \u001b[31m50.1 MB/s\u001b[0m eta \u001b[36m0:00:00\u001b[0m\n",
            "\u001b[?25hDownloading stevedore-5.4.1-py3-none-any.whl (49 kB)\n",
            "\u001b[2K   \u001b[90m━━━━━━━━━━━━━━━━━━━━━━━━━━━━━━━━━━━━━━━━\u001b[0m \u001b[32m49.5/49.5 kB\u001b[0m \u001b[31m3.8 MB/s\u001b[0m eta \u001b[36m0:00:00\u001b[0m\n",
            "\u001b[?25hDownloading symengine-0.13.0-cp311-cp311-manylinux_2_17_x86_64.manylinux2014_x86_64.whl (49.7 MB)\n",
            "\u001b[2K   \u001b[90m━━━━━━━━━━━━━━━━━━━━━━━━━━━━━━━━━━━━━━━━\u001b[0m \u001b[32m49.7/49.7 MB\u001b[0m \u001b[31m18.0 MB/s\u001b[0m eta \u001b[36m0:00:00\u001b[0m\n",
            "\u001b[?25hDownloading pbr-6.1.1-py2.py3-none-any.whl (108 kB)\n",
            "\u001b[2K   \u001b[90m━━━━━━━━━━━━━━━━━━━━━━━━━━━━━━━━━━━━━━━━\u001b[0m \u001b[32m109.0/109.0 kB\u001b[0m \u001b[31m5.5 MB/s\u001b[0m eta \u001b[36m0:00:00\u001b[0m\n",
            "\u001b[?25hInstalling collected packages: symengine, rustworkx, pbr, dill, stevedore, qiskit\n",
            "Successfully installed dill-0.4.0 pbr-6.1.1 qiskit-1.4.2 rustworkx-0.16.0 stevedore-5.4.1 symengine-0.13.0\n"
          ]
        }
      ],
      "source": [
        "!pip install qiskit==1.4.2"
      ]
    },
    {
      "cell_type": "code",
      "source": [
        "pip install pylatexenc"
      ],
      "metadata": {
        "colab": {
          "base_uri": "https://localhost:8080/"
        },
        "id": "t-LnJEfdL6BY",
        "outputId": "41f81f33-e330-490a-f061-ab788fcec5c7"
      },
      "execution_count": 2,
      "outputs": [
        {
          "output_type": "stream",
          "name": "stdout",
          "text": [
            "Collecting pylatexenc\n",
            "  Downloading pylatexenc-2.10.tar.gz (162 kB)\n",
            "\u001b[?25l     \u001b[90m━━━━━━━━━━━━━━━━━━━━━━━━━━━━━━━━━━━━━━━━\u001b[0m \u001b[32m0.0/162.6 kB\u001b[0m \u001b[31m?\u001b[0m eta \u001b[36m-:--:--\u001b[0m\r\u001b[2K     \u001b[90m━━━━━━━━━━━━━━━━━━━━━━━━━━━━━━━━━━━━━━━\u001b[0m \u001b[32m162.6/162.6 kB\u001b[0m \u001b[31m4.9 MB/s\u001b[0m eta \u001b[36m0:00:00\u001b[0m\n",
            "\u001b[?25h  Preparing metadata (setup.py) ... \u001b[?25l\u001b[?25hdone\n",
            "Building wheels for collected packages: pylatexenc\n",
            "  Building wheel for pylatexenc (setup.py) ... \u001b[?25l\u001b[?25hdone\n",
            "  Created wheel for pylatexenc: filename=pylatexenc-2.10-py3-none-any.whl size=136817 sha256=4569989975a89ea884e6c75e03eafb970b16aedce8e37c8674d9333c9fa5b62d\n",
            "  Stored in directory: /root/.cache/pip/wheels/b1/7a/33/9fdd892f784ed4afda62b685ae3703adf4c91aa0f524c28f03\n",
            "Successfully built pylatexenc\n",
            "Installing collected packages: pylatexenc\n",
            "Successfully installed pylatexenc-2.10\n"
          ]
        }
      ]
    },
    {
      "cell_type": "code",
      "source": [
        "!pip install qiskit_aer"
      ],
      "metadata": {
        "colab": {
          "base_uri": "https://localhost:8080/"
        },
        "id": "43STpf8MMKkd",
        "outputId": "c846f55f-266b-4c51-db92-17897e094e71"
      },
      "execution_count": 3,
      "outputs": [
        {
          "output_type": "stream",
          "name": "stdout",
          "text": [
            "Collecting qiskit_aer\n",
            "  Downloading qiskit_aer-0.17.0-cp311-cp311-manylinux_2_17_x86_64.manylinux2014_x86_64.whl.metadata (8.2 kB)\n",
            "Requirement already satisfied: qiskit>=1.1.0 in /usr/local/lib/python3.11/dist-packages (from qiskit_aer) (1.4.2)\n",
            "Requirement already satisfied: numpy>=1.16.3 in /usr/local/lib/python3.11/dist-packages (from qiskit_aer) (2.0.2)\n",
            "Requirement already satisfied: scipy>=1.0 in /usr/local/lib/python3.11/dist-packages (from qiskit_aer) (1.15.2)\n",
            "Requirement already satisfied: psutil>=5 in /usr/local/lib/python3.11/dist-packages (from qiskit_aer) (5.9.5)\n",
            "Requirement already satisfied: rustworkx>=0.15.0 in /usr/local/lib/python3.11/dist-packages (from qiskit>=1.1.0->qiskit_aer) (0.16.0)\n",
            "Requirement already satisfied: sympy>=1.3 in /usr/local/lib/python3.11/dist-packages (from qiskit>=1.1.0->qiskit_aer) (1.13.1)\n",
            "Requirement already satisfied: dill>=0.3 in /usr/local/lib/python3.11/dist-packages (from qiskit>=1.1.0->qiskit_aer) (0.4.0)\n",
            "Requirement already satisfied: python-dateutil>=2.8.0 in /usr/local/lib/python3.11/dist-packages (from qiskit>=1.1.0->qiskit_aer) (2.9.0.post0)\n",
            "Requirement already satisfied: stevedore>=3.0.0 in /usr/local/lib/python3.11/dist-packages (from qiskit>=1.1.0->qiskit_aer) (5.4.1)\n",
            "Requirement already satisfied: typing-extensions in /usr/local/lib/python3.11/dist-packages (from qiskit>=1.1.0->qiskit_aer) (4.13.2)\n",
            "Requirement already satisfied: symengine<0.14,>=0.11 in /usr/local/lib/python3.11/dist-packages (from qiskit>=1.1.0->qiskit_aer) (0.13.0)\n",
            "Requirement already satisfied: six>=1.5 in /usr/local/lib/python3.11/dist-packages (from python-dateutil>=2.8.0->qiskit>=1.1.0->qiskit_aer) (1.17.0)\n",
            "Requirement already satisfied: pbr>=2.0.0 in /usr/local/lib/python3.11/dist-packages (from stevedore>=3.0.0->qiskit>=1.1.0->qiskit_aer) (6.1.1)\n",
            "Requirement already satisfied: mpmath<1.4,>=1.1.0 in /usr/local/lib/python3.11/dist-packages (from sympy>=1.3->qiskit>=1.1.0->qiskit_aer) (1.3.0)\n",
            "Requirement already satisfied: setuptools in /usr/local/lib/python3.11/dist-packages (from pbr>=2.0.0->stevedore>=3.0.0->qiskit>=1.1.0->qiskit_aer) (75.2.0)\n",
            "Downloading qiskit_aer-0.17.0-cp311-cp311-manylinux_2_17_x86_64.manylinux2014_x86_64.whl (12.4 MB)\n",
            "\u001b[2K   \u001b[90m━━━━━━━━━━━━━━━━━━━━━━━━━━━━━━━━━━━━━━━━\u001b[0m \u001b[32m12.4/12.4 MB\u001b[0m \u001b[31m97.2 MB/s\u001b[0m eta \u001b[36m0:00:00\u001b[0m\n",
            "\u001b[?25hInstalling collected packages: qiskit_aer\n",
            "Successfully installed qiskit_aer-0.17.0\n"
          ]
        }
      ]
    },
    {
      "cell_type": "code",
      "source": [
        "import numpy as np\n",
        "\n",
        "# Import Qiskit\n",
        "from qiskit import QuantumCircuit, transpile\n",
        "from qiskit_aer import AerSimulator\n",
        "from qiskit.visualization import plot_histogram, plot_state_city\n",
        "import qiskit.quantum_info as qi"
      ],
      "metadata": {
        "id": "K1t_KHGHMiVH"
      },
      "execution_count": 4,
      "outputs": []
    },
    {
      "cell_type": "markdown",
      "source": [
        "# 2-Qubit Grover's Algorithm Overview\n",
        "\n",
        "### **Initial State Preparation**\n",
        "For a 2-qubit system, we have \\( N = 4 \\) possible basis states. The uniform superposition state \\( |s\\rangle \\) is:\n",
        "\n",
        "$$\n",
        "|s\\rangle = \\frac{1}{2} \\left( |HH\\rangle + |HV\\rangle + |VH\\rangle + |VV\\rangle \\right)\n",
        "$$\n",
        "\n",
        "---\n",
        "\n",
        "### **Oracle \\( U_f \\): Marking the Winning State**\n",
        "\n",
        "We define the *winning state* as:\n",
        "\n",
        "$$\n",
        "|w\\rangle = |VH\\rangle\n",
        "$$\n",
        "\n",
        "The oracle flips the sign of this state:\n",
        "\n",
        "$$\n",
        "U_f |s\\rangle = \\frac{1}{2} \\left( |HH\\rangle + |HV\\rangle - |VH\\rangle + |VV\\rangle \\right)\n",
        "$$\n",
        "\n",
        "**Qiskit Implementation:**\n",
        "To implement this oracle in Qiskit:\n",
        "\n",
        "1. Apply an **X gate** on the **first qubit** (to map \\( |V\\rangle \\rightarrow |H\\rangle \\)).\n",
        "2. Apply a **controlled-Z (CZ)** gate to flip the phase of the target state.\n",
        "3. Apply another **X gate** on the **first qubit** to revert the mapping.\n",
        "\n",
        "---\n",
        "\n",
        "### **Diffusion Operator \\( U_s \\): Reflection About the Mean**\n",
        "\n",
        "The diffusion operator reflects about the mean:\n",
        "\n",
        "$$\n",
        "U_s = 2|s\\rangle\\langle s| - I\n",
        "$$\n",
        "\n",
        "Where\n",
        "\n",
        "$$\n",
        "|s\\rangle\\langle s| = \\frac{1}{4}\n",
        "\\begin{bmatrix}\n",
        "1 & 1 & 1 & 1 \\\\\n",
        "1 & 1 & 1 & 1 \\\\\n",
        "1 & 1 & 1 & 1 \\\\\n",
        "1 & 1 & 1 & 1 \\\\\n",
        "\\end{bmatrix}\n",
        "$$\n",
        "\n",
        "So,\n",
        "\n",
        "$$\n",
        "U_s = 2 \\cdot \\frac{1}{4}\n",
        "\\begin{bmatrix}\n",
        "1 & 1 & 1 & 1 \\\\\n",
        "1 & 1 & 1 & 1 \\\\\n",
        "1 & 1 & 1 & 1 \\\\\n",
        "1 & 1 & 1 & 1 \\\\\n",
        "\\end{bmatrix}\n",
        "- I\n",
        "$$\n",
        "\n",
        "**Qiskit Implementation:**\n",
        "This reflection is implemented with the following sequence:\n",
        "\n",
        "1. Apply **H gates** on both qubits.\n",
        "2. Apply **Z gates** on both qubits.\n",
        "3. Apply a **CZ gate** between the two qubits.\n",
        "4. Apply **H gates** on both qubits again.\n",
        "\n",
        "---\n",
        "\n",
        "### **Note on Perceval Implementation**\n",
        "\n",
        "When implementing this circuit in **Perceval**, the **phase flip operation** includes an **additional Hadamard contribution**, due to how it models linear optics. This needs to be **accounted for in the Qiskit simulation**, similar to how we constructed the Bell state $$ |\\psi^+\\rangle $$.\n",
        "\n",
        "---\n",
        "\n",
        "### **Final Qiskit Circuit Composition**\n",
        "\n",
        "1. **Initialize** in \\( |00\\rangle \\)\n",
        "2. Apply **H gates** to create \\( |s\\rangle \\)\n",
        "3. Apply the **Oracle \\( U_f \\)** (marking \\( |VH\\rangle \\))\n",
        "4. Apply the **Diffusion operator \\( U_s \\)** (reflection)\n",
        "5. **Measure**\n",
        "\n",
        "---\n"
      ],
      "metadata": {
        "id": "kDT5BJtVNz7r"
      }
    },
    {
      "cell_type": "code",
      "source": [
        "# Define a custom subroutine for a black box operation\n",
        "def black_box_subroutine(qc, q0, q1):\n",
        "    qc.h(q0)  # Example operation (Hadamard)\n",
        "    qc.cx(q0, q1)  # Example operation (CNOT)\n",
        "    qc.rz(np.pi/4, q0)  # Example phase shift\n",
        "    qc.cz(q0, q1)  # Controlled-Z gate as part of the black box\n",
        "\n",
        "# Create a circuit and apply the subroutine\n",
        "qc = QuantumCircuit(2)\n",
        "black_box_subroutine(qc, 0, 1)\n",
        "\n",
        "# Draw the circuit with the custom black box operations\n",
        "qc.draw('mpl')"
      ],
      "metadata": {
        "colab": {
          "base_uri": "https://localhost:8080/",
          "height": 191
        },
        "id": "lP05Zy98O6g1",
        "outputId": "5007eb01-8b4c-4465-e967-c4daa2508e26"
      },
      "execution_count": 5,
      "outputs": [
        {
          "output_type": "execute_result",
          "data": {
            "text/plain": [
              "<Figure size 454.517x200.667 with 1 Axes>"
            ],
            "image/png": "[encoded data removed]"
          },
          "metadata": {},
          "execution_count": 5
        }
      ]
    },
    {
      "cell_type": "code",
      "source": [
        "from qiskit.circuit import Gate\n",
        "\n",
        "# Create a black box circuit\n",
        "black_box_circuit = QuantumCircuit(2)\n",
        "black_box_subroutine(black_box_circuit, 0, 1)\n",
        "\n",
        "# Convert to a gate\n",
        "black_box_gate = black_box_circuit.to_gate(label='Black Box')\n",
        "\n",
        "# Apply in a larger circuit\n",
        "qc = QuantumCircuit(2)\n",
        "qc.append(black_box_gate, [0, 1])\n",
        "qc.h(0)\n",
        "qc.h(1)\n",
        "qc.x(0)\n",
        "qc.cz(0,1)\n",
        "qc.x(0)\n",
        "qc.h(1)\n",
        "qc.h(0)\n",
        "qc.h(1)\n",
        "qc.h(0)\n",
        "qc.h(1)\n",
        "qc.h(0)\n",
        "qc.z(1)\n",
        "qc.z(0)\n",
        "qc.cz(0,1)\n",
        "qc.h(0)\n",
        "qc.h(1)\n",
        "qc.measure_all()\n",
        "qc.draw('mpl')"
      ],
      "metadata": {
        "colab": {
          "base_uri": "https://localhost:8080/",
          "height": 255
        },
        "id": "WjqqwOtRNeQf",
        "outputId": "2498dfda-b05e-4a97-f78a-6d507089ac07"
      },
      "execution_count": 6,
      "outputs": [
        {
          "output_type": "execute_result",
          "data": {
            "text/plain": [
              "<Figure size 1416.5x284.278 with 1 Axes>"
            ],
            "image/png": "[encoded data removed]"
          },
          "metadata": {},
          "execution_count": 6
        }
      ]
    },
    {
      "cell_type": "markdown",
      "source": [
        "This circuit can be simplified to the one given below."
      ],
      "metadata": {
        "id": "LukrJxJePbdt"
      }
    },
    {
      "cell_type": "code",
      "source": [
        "qc = QuantumCircuit(2)\n",
        "qc.h(0)\n",
        "qc.h(1)\n",
        "\n",
        "qc.cx(0,1)\n",
        "# qc.x(0)\n",
        "# qc.cz(0,1)\n",
        "# qc.x(0)\n",
        "\n",
        "qc.h(0)\n",
        "qc.h(1)\n",
        "\n",
        "qc.h(0) # contribution from PS\n",
        "qc.z(0)\n",
        "qc.h(1) # contribution from PS\n",
        "qc.z(1)\n",
        "\n",
        "qc.cx(0,1)\n",
        "#qc.cz(0,1)\n",
        "\n",
        "qc.h(0)\n",
        "qc.h(1)\n",
        "qc.measure_all()\n",
        "qc.draw('mpl')\n"
      ],
      "metadata": {
        "colab": {
          "base_uri": "https://localhost:8080/",
          "height": 255
        },
        "id": "GKHCN2POPeYd",
        "outputId": "efb94fc3-d024-4c92-abd0-f2d1051cf136"
      },
      "execution_count": 13,
      "outputs": [
        {
          "output_type": "execute_result",
          "data": {
            "text/plain": [
              "<Figure size 998.442x284.278 with 1 Axes>"
            ],
            "image/png": "[encoded data removed]"
          },
          "metadata": {},
          "execution_count": 13
        }
      ]
    },
    {
      "cell_type": "markdown",
      "source": [
        "By replacing the CZ operations with CNOTs, we no longer needed to cancel out the extra Hadamard contributions from the Perceval phase shifter, reducing the overall number of components needed.\n"
      ],
      "metadata": {
        "id": "_WKB_dPNQPQk"
      }
    },
    {
      "cell_type": "markdown",
      "source": [
        "As we can see, the circuit is clearly balanced, meaning that the interference effects of the beamsplitters do not skew the outcomes of measurement. Therefore, the Black Box operator simply behaves as an identity gate."
      ],
      "metadata": {
        "id": "4vCD89ngPyxV"
      }
    },
    {
      "cell_type": "markdown",
      "source": [
        "We can now implement use the Qiskit Aer simulator to obtain the outcomes of measurement"
      ],
      "metadata": {
        "id": "s45kRMohP8yw"
      }
    },
    {
      "cell_type": "code",
      "source": [
        "qc_aer = transpile(qc, backend=AerSimulator())\n",
        "simulator_aer = AerSimulator()\n",
        "results = simulator_aer.run(qc_aer, shots=10000).result()\n",
        "counts=results.get_counts()\n",
        "print(counts)"
      ],
      "metadata": {
        "colab": {
          "base_uri": "https://localhost:8080/"
        },
        "id": "htNgVppIQXzO",
        "outputId": "4a623dc3-1cfb-4115-9f51-f785fea14647"
      },
      "execution_count": 12,
      "outputs": [
        {
          "output_type": "stream",
          "name": "stdout",
          "text": [
            "{'10': 10000}\n"
          ]
        }
      ]
    },
    {
      "cell_type": "code",
      "source": [
        "from qiskit.visualization import plot_histogram\n",
        "\n",
        "plot_histogram(counts)"
      ],
      "metadata": {
        "colab": {
          "base_uri": "https://localhost:8080/",
          "height": 437
        },
        "id": "cCNQaqHxQZpd",
        "outputId": "2b5b4d8a-ba87-47b4-f967-360a36c3f6c1"
      },
      "execution_count": 14,
      "outputs": [
        {
          "output_type": "execute_result",
          "data": {
            "text/plain": [
              "<Figure size 640x480 with 1 Axes>"
            ],
            "image/png": "[encoded data removed]"
          },
          "metadata": {},
          "execution_count": 14
        }
      ]
    },
    {
      "cell_type": "markdown",
      "source": [
        "We can clearly see that the winning state was observed with 100% accuracy."
      ],
      "metadata": {
        "id": "zntrtMh3Qqgi"
      }
    },
    {
      "cell_type": "markdown",
      "source": [
        "# Grover's Algorithm With Noise"
      ],
      "metadata": {
        "id": "9Lcn3KYcRClq"
      }
    },
    {
      "cell_type": "markdown",
      "source": [
        "To more accurately simulate the implementation of Grover's algorithm in a lab setting, we can inject dephasing noise into our circuit. We will use an RZ gate to accomplish this."
      ],
      "metadata": {
        "id": "vWv-4wvXRFWg"
      }
    },
    {
      "cell_type": "code",
      "source": [
        "def create_grovers_with_noise(phase_noise):\n",
        "    # Initialize a 2-qubit circuit\n",
        "    qc = QuantumCircuit(2, 2)\n",
        "\n",
        "    # Add phase noise as a phase shift to each qubit\n",
        "    qc.h(0)\n",
        "    qc.h(1)\n",
        "\n",
        "    qc.rz(phase_noise, 0)\n",
        "    qc.rz(phase_noise, 1)\n",
        "\n",
        "    qc.cx(0,1)\n",
        "\n",
        "    qc.h(0)\n",
        "    qc.h(1)\n",
        "\n",
        "    qc.h(0) # contribution from PS\n",
        "    qc.z(0)\n",
        "    qc.h(1) # contribution from PS\n",
        "    qc.z(1)\n",
        "\n",
        "    qc.cx(0,1)\n",
        "    #qc.cz(0,1)\n",
        "\n",
        "    qc.h(0)\n",
        "    qc.h(1)\n",
        "\n",
        "    # Measure the qubits\n",
        "    qc.measure([0, 1], [0, 1])\n",
        "    return qc"
      ],
      "metadata": {
        "id": "Y8vWzNVtSWDy"
      },
      "execution_count": 21,
      "outputs": []
    },
    {
      "cell_type": "code",
      "source": [
        "def simulate_circuit_with_noise(phase_noise, shots=10000):\n",
        "  qc = create_grovers_with_noise(phase_noise)\n",
        "  qc_aer = transpile(qc, backend=AerSimulator())\n",
        "  simulator_aer = AerSimulator()\n",
        "  results = simulator_aer.run(qc_aer, shots=shots).result()\n",
        "  counts=results.get_counts()\n",
        "  return counts"
      ],
      "metadata": {
        "id": "wEIg_MmZSb-d"
      },
      "execution_count": 16,
      "outputs": []
    },
    {
      "cell_type": "code",
      "source": [
        "print(simulate_circuit_with_noise(np.pi/12))"
      ],
      "metadata": {
        "colab": {
          "base_uri": "https://localhost:8080/"
        },
        "id": "H19YzVzYSdoi",
        "outputId": "e23aa857-dea7-4a48-d2d5-7f7670d1023d"
      },
      "execution_count": 17,
      "outputs": [
        {
          "output_type": "stream",
          "name": "stdout",
          "text": [
            "{'01': 2, '11': 153, '00': 171, '10': 9674}\n"
          ]
        }
      ]
    },
    {
      "cell_type": "code",
      "source": [
        "print(simulate_circuit_with_noise(np.pi/6))"
      ],
      "metadata": {
        "colab": {
          "base_uri": "https://localhost:8080/"
        },
        "id": "XwhNcOzzSl7t",
        "outputId": "9c91270e-87c5-4fd1-b1e4-487f368e3dbc"
      },
      "execution_count": 18,
      "outputs": [
        {
          "output_type": "stream",
          "name": "stdout",
          "text": [
            "{'01': 54, '11': 615, '00': 636, '10': 8695}\n"
          ]
        }
      ]
    },
    {
      "cell_type": "markdown",
      "source": [
        "Now, we can construct a simple linear regression model to predict the accuracy for a given noise level."
      ],
      "metadata": {
        "id": "NRv81vQ1Sr9U"
      }
    },
    {
      "cell_type": "code",
      "source": [
        "noise_levels = np.linspace(0, np.pi/6, 50)  # Noise levels from 0 to pi/6\n",
        "results = []\n",
        "\n",
        "for noise in noise_levels:\n",
        "    counts = simulate_circuit_with_noise(phase_noise=noise)\n",
        "    marked_count = counts.get('10', 0)\n",
        "    accuracy = marked_count / 10000  # Normalize to get accuracy\n",
        "    results.append((noise, accuracy))\n",
        "\n",
        "# Prepare the data for ML training\n",
        "X = np.array([x[0] for x in results]).reshape(-1, 1)  # Noise levels\n",
        "y = np.array([x[1] for x in results])  # Accuracy"
      ],
      "metadata": {
        "id": "x-ICzmV1S3D_"
      },
      "execution_count": 19,
      "outputs": []
    },
    {
      "cell_type": "code",
      "source": [
        "from sklearn.model_selection import train_test_split\n",
        "from sklearn.linear_model import LinearRegression\n",
        "from sklearn.metrics import mean_squared_error, r2_score\n",
        "\n",
        "# Split the data into training and testing sets\n",
        "X_train, X_test, y_train, y_test = train_test_split(X, y, test_size=0.2, random_state=42)\n",
        "\n",
        "# Train a linear regression model\n",
        "model = LinearRegression()\n",
        "model.fit(X_train, y_train)\n",
        "\n",
        "# Predict on the test set\n",
        "y_pred = model.predict(X_test)\n",
        "\n",
        "# Evaluate the model\n",
        "mse = mean_squared_error(y_test, y_pred)\n",
        "r2 = r2_score(y_test, y_pred)\n",
        "\n",
        "print(\"Mean Squared Error:\", mse)\n",
        "print(\"R-squared:\", r2)\n",
        "\n",
        "# Predict accuracy for a new noise level\n",
        "new_noise_level = np.pi / 16\n",
        "predicted_accuracy = model.predict([[new_noise_level]])\n",
        "print(f\"Predicted accuracy for noise level {new_noise_level:.3f}: {predicted_accuracy[0]:.3f}\")\n"
      ],
      "metadata": {
        "colab": {
          "base_uri": "https://localhost:8080/"
        },
        "id": "coYENVavS44o",
        "outputId": "34ca8001-2fca-481e-cda1-798a907f2ee7"
      },
      "execution_count": 20,
      "outputs": [
        {
          "output_type": "stream",
          "name": "stdout",
          "text": [
            "Mean Squared Error: 0.00010410636684115059\n",
            "R-squared: 0.9256805706118467\n",
            "Predicted accuracy for noise level 0.196: 0.971\n"
          ]
        }
      ]
    },
    {
      "cell_type": "markdown",
      "source": [
        "The results can be summarized below with the following plot."
      ],
      "metadata": {
        "id": "IyrMtDH0TP6h"
      }
    },
    {
      "cell_type": "code",
      "source": [
        "import matplotlib.pyplot as plt\n",
        "\n",
        "# Plot the true vs predicted values\n",
        "plt.scatter(X_test, y_test, color='blue', label='True values')\n",
        "plt.scatter(X_test, y_pred, color='red', label='Predicted values')\n",
        "plt.xlabel('Phase Noise (radians)')\n",
        "plt.ylabel('Accuracy')\n",
        "plt.title('Regression Model for Predicting Grover\\'s Algorithm Accuracy')\n",
        "plt.legend()\n",
        "plt.show()\n"
      ],
      "metadata": {
        "colab": {
          "base_uri": "https://localhost:8080/",
          "height": 472
        },
        "id": "wzRilvoyTSLY",
        "outputId": "b1ed32e2-ae58-43d0-a5af-19831f723493"
      },
      "execution_count": 22,
      "outputs": [
        {
          "output_type": "display_data",
          "data": {
            "text/plain": [
              "<Figure size 640x480 with 1 Axes>"
            ],
            "image/png": "[encoded data removed]"
          },
          "metadata": {}
        }
      ]
    },
    {
      "cell_type": "code",
      "source": [],
      "metadata": {
        "id": "z3el-nj1TTGj"
      },
      "execution_count": null,
      "outputs": []
    }
  ]
}