{
  "nbformat": 4,
  "nbformat_minor": 0,
  "metadata": {
    "colab": {
      "provenance": []
    },
    "kernelspec": {
      "name": "python3",
      "display_name": "Python 3"
    },
    "language_info": {
      "name": "python"
    }
  },
  "cells": [
    {
      "cell_type": "code",
      "execution_count": 1,
      "metadata": {
        "colab": {
          "base_uri": "https://localhost:8080/"
        },
        "id": "a6mUvyjkTvB9",
        "outputId": "584738d5-feca-4904-c7af-0ed3ede86b76"
      },
      "outputs": [
        {
          "output_type": "stream",
          "name": "stdout",
          "text": [
            "Collecting perceval-quandela\n",
            "  Downloading perceval_quandela-0.13.0-py3-none-any.whl.metadata (6.8 kB)\n",
            "Requirement already satisfied: sympy~=1.12 in /usr/local/lib/python3.11/dist-packages (from perceval-quandela) (1.13.1)\n",
            "Requirement already satisfied: numpy<3,>=1.26 in /usr/local/lib/python3.11/dist-packages (from perceval-quandela) (2.0.2)\n",
            "Requirement already satisfied: scipy~=1.13 in /usr/local/lib/python3.11/dist-packages (from perceval-quandela) (1.15.2)\n",
            "Requirement already satisfied: tabulate~=0.9 in /usr/local/lib/python3.11/dist-packages (from perceval-quandela) (0.9.0)\n",
            "Requirement already satisfied: matplotlib<4 in /usr/local/lib/python3.11/dist-packages (from perceval-quandela) (3.10.0)\n",
            "Collecting exqalibur~=0.7.0 (from perceval-quandela)\n",
            "  Downloading exqalibur-0.7.0-cp311-cp311-manylinux_2_17_x86_64.manylinux2014_x86_64.whl.metadata (495 bytes)\n",
            "Requirement already satisfied: multipledispatch<2 in /usr/local/lib/python3.11/dist-packages (from perceval-quandela) (1.0.0)\n",
            "Requirement already satisfied: protobuf>=3.20.3 in /usr/local/lib/python3.11/dist-packages (from perceval-quandela) (5.29.4)\n",
            "Collecting drawsvg>=2.0 (from perceval-quandela)\n",
            "  Downloading drawsvg-2.4.0-py3-none-any.whl.metadata (19 kB)\n",
            "Requirement already satisfied: requests<3 in /usr/local/lib/python3.11/dist-packages (from perceval-quandela) (2.32.3)\n",
            "Requirement already satisfied: networkx~=3.1 in /usr/local/lib/python3.11/dist-packages (from perceval-quandela) (3.4.2)\n",
            "Collecting latexcodec<4 (from perceval-quandela)\n",
            "  Downloading latexcodec-3.0.0-py3-none-any.whl.metadata (4.9 kB)\n",
            "Requirement already satisfied: platformdirs<5 in /usr/local/lib/python3.11/dist-packages (from perceval-quandela) (4.3.7)\n",
            "Requirement already satisfied: tqdm in /usr/local/lib/python3.11/dist-packages (from perceval-quandela) (4.67.1)\n",
            "Requirement already satisfied: contourpy>=1.0.1 in /usr/local/lib/python3.11/dist-packages (from matplotlib<4->perceval-quandela) (1.3.2)\n",
            "Requirement already satisfied: cycler>=0.10 in /usr/local/lib/python3.11/dist-packages (from matplotlib<4->perceval-quandela) (0.12.1)\n",
            "Requirement already satisfied: fonttools>=4.22.0 in /usr/local/lib/python3.11/dist-packages (from matplotlib<4->perceval-quandela) (4.57.0)\n",
            "Requirement already satisfied: kiwisolver>=1.3.1 in /usr/local/lib/python3.11/dist-packages (from matplotlib<4->perceval-quandela) (1.4.8)\n",
            "Requirement already satisfied: packaging>=20.0 in /usr/local/lib/python3.11/dist-packages (from matplotlib<4->perceval-quandela) (24.2)\n",
            "Requirement already satisfied: pillow>=8 in /usr/local/lib/python3.11/dist-packages (from matplotlib<4->perceval-quandela) (11.2.1)\n",
            "Requirement already satisfied: pyparsing>=2.3.1 in /usr/local/lib/python3.11/dist-packages (from matplotlib<4->perceval-quandela) (3.2.3)\n",
            "Requirement already satisfied: python-dateutil>=2.7 in /usr/local/lib/python3.11/dist-packages (from matplotlib<4->perceval-quandela) (2.9.0.post0)\n",
            "Requirement already satisfied: charset-normalizer<4,>=2 in /usr/local/lib/python3.11/dist-packages (from requests<3->perceval-quandela) (3.4.1)\n",
            "Requirement already satisfied: idna<4,>=2.5 in /usr/local/lib/python3.11/dist-packages (from requests<3->perceval-quandela) (3.10)\n",
            "Requirement already satisfied: urllib3<3,>=1.21.1 in /usr/local/lib/python3.11/dist-packages (from requests<3->perceval-quandela) (2.4.0)\n",
            "Requirement already satisfied: certifi>=2017.4.17 in /usr/local/lib/python3.11/dist-packages (from requests<3->perceval-quandela) (2025.4.26)\n",
            "Requirement already satisfied: mpmath<1.4,>=1.1.0 in /usr/local/lib/python3.11/dist-packages (from sympy~=1.12->perceval-quandela) (1.3.0)\n",
            "Requirement already satisfied: six>=1.5 in /usr/local/lib/python3.11/dist-packages (from python-dateutil>=2.7->matplotlib<4->perceval-quandela) (1.17.0)\n",
            "Downloading perceval_quandela-0.13.0-py3-none-any.whl (884 kB)\n",
            "\u001b[2K   \u001b[90m━━━━━━━━━━━━━━━━━━━━━━━━━━━━━━━━━━━━━━━━\u001b[0m \u001b[32m884.3/884.3 kB\u001b[0m \u001b[31m11.6 MB/s\u001b[0m eta \u001b[36m0:00:00\u001b[0m\n",
            "\u001b[?25hDownloading drawsvg-2.4.0-py3-none-any.whl (44 kB)\n",
            "\u001b[2K   \u001b[90m━━━━━━━━━━━━━━━━━━━━━━━━━━━━━━━━━━━━━━━━\u001b[0m \u001b[32m44.1/44.1 kB\u001b[0m \u001b[31m860.1 kB/s\u001b[0m eta \u001b[36m0:00:00\u001b[0m\n",
            "\u001b[?25hDownloading exqalibur-0.7.0-cp311-cp311-manylinux_2_17_x86_64.manylinux2014_x86_64.whl (2.1 MB)\n",
            "\u001b[2K   \u001b[90m━━━━━━━━━━━━━━━━━━━━━━━━━━━━━━━━━━━━━━━━\u001b[0m \u001b[32m2.1/2.1 MB\u001b[0m \u001b[31m45.1 MB/s\u001b[0m eta \u001b[36m0:00:00\u001b[0m\n",
            "\u001b[?25hDownloading latexcodec-3.0.0-py3-none-any.whl (18 kB)\n",
            "Installing collected packages: drawsvg, latexcodec, exqalibur, perceval-quandela\n",
            "Successfully installed drawsvg-2.4.0 exqalibur-0.7.0 latexcodec-3.0.0 perceval-quandela-0.13.0\n"
          ]
        }
      ],
      "source": [
        "!pip install perceval-quandela"
      ]
    },
    {
      "cell_type": "code",
      "source": [
        "import perceval as pcvl\n",
        "import perceval.components as comp\n",
        "\n",
        "from perceval.components import PS, BS, PERM, Port\n",
        "import numpy as np\n",
        "\n",
        "from perceval.rendering.circuit import DisplayConfig, SymbSkin, PhysSkin\n",
        "from perceval.utils import Encoding"
      ],
      "metadata": {
        "id": "HvmAs063UAO2"
      },
      "execution_count": 2,
      "outputs": []
    },
    {
      "cell_type": "markdown",
      "source": [
        "# Grover's Algorithm"
      ],
      "metadata": {
        "id": "w-csa00dUUVG"
      }
    },
    {
      "cell_type": "markdown",
      "source": [
        "Now that we've simplified the circuit for Grover's algorithm in Qiskit and taken care of bias, we can easily map these results to Perceval, making use of the fact that the Z gate in Perceval is a π-phase shifter.\n"
      ],
      "metadata": {
        "id": "mmSRalOlUeLY"
      }
    },
    {
      "cell_type": "code",
      "source": [
        "delta1 = pcvl.Parameter(\"delta1\")\n",
        "xsi1 = pcvl.Parameter(\"xsi1\")\n",
        "\n",
        "delta2 = pcvl.Parameter(\"delta2\")\n",
        "xsi2 = pcvl.Parameter(\"xsi2\")\n",
        "\n",
        "delta3 = pcvl.Parameter(\"delta3\")\n",
        "xsi3 = pcvl.Parameter(\"xsi3\")\n",
        "\n",
        "phi1 = pcvl.Parameter(\"phi1\")"
      ],
      "metadata": {
        "id": "sEB23KqCUNmZ"
      },
      "execution_count": 3,
      "outputs": []
    },
    {
      "cell_type": "code",
      "source": [
        "delta1.set_value(np.pi/2)\n",
        "xsi1.set_value(np.pi/8)\n",
        "\n",
        "delta2.set_value(np.pi/2)\n",
        "xsi2.set_value(np.pi/4)\n",
        "\n",
        "delta3.set_value(np.pi/2)\n",
        "xsi3.set_value(0)"
      ],
      "metadata": {
        "id": "d2ZJ7toCUQeF"
      },
      "execution_count": 4,
      "outputs": []
    },
    {
      "cell_type": "code",
      "source": [
        "grover = (pcvl.Circuit(4)\n",
        "        .add(1, comp.BS().H())\n",
        "\n",
        "        .add(1, comp.WP(delta=delta1, xsi=xsi1)) # oracle marking\n",
        "        .add(1, comp.WP(delta=delta1, xsi=xsi1)) # oracle marking\n",
        "\n",
        "        .add(1, comp.BS().H())\n",
        "        .add(0, comp.PBS())\n",
        "        .add(2, comp.PBS())\n",
        "\n",
        "        .add(1, comp.WP(delta=delta1, xsi=xsi1))\n",
        "        .add(2, comp.WP(delta=delta1, xsi=xsi1))\n",
        "\n",
        "        .add(1, comp.PS(np.pi))\n",
        "        .add(2, comp.PS(np.pi))\n",
        "\n",
        "        .add(1, comp.BS().H())\n",
        "        .add(0, comp.PBS())\n",
        "        .add(2, comp.PBS())\n",
        "\n",
        "        .add(1, comp.WP(delta=delta1, xsi=xsi1))\n",
        "        .add(2, comp.WP(delta=delta1, xsi=xsi1)))"
      ],
      "metadata": {
        "id": "FbscubTnUpNc"
      },
      "execution_count": 6,
      "outputs": []
    },
    {
      "cell_type": "code",
      "source": [
        "pcvl.pdisplay(grover)"
      ],
      "metadata": {
        "colab": {
          "base_uri": "https://localhost:8080/",
          "height": 302
        },
        "id": "4vacM0d0Ut4F",
        "outputId": "87dce1c0-6933-4766-8a09-da68c7bccf8a"
      },
      "execution_count": 7,
      "outputs": [
        {
          "output_type": "execute_result",
          "data": {
            "text/plain": [
              "<drawsvg.drawing.Drawing at 0x7c2c1b673010>"
            ],
            "image/svg+xml": "<?xml version=\"1.0\" encoding=\"UTF-8\"?>\n<svg xmlns=\"http://www.w3.org/2000/svg\" xmlns:xlink=\"http://www.w3.org/1999/xlink\"\n     width=\"1070.0\" height=\"281.25\" viewBox=\"-28.0 0 856.0 225.0\">\n<defs>\n</defs>\n<path d=\"M10,25.0 L25,25.0\" stroke-width=\"3\" stroke=\"darkred\" stroke-linejoin=\"miter\" fill=\"none\" />\n<path d=\"M10,75.0 L25,75.0\" stroke-width=\"3\" stroke=\"darkred\" stroke-linejoin=\"miter\" fill=\"none\" />\n<path d=\"M10,125.0 L25,125.0\" stroke-width=\"3\" stroke=\"darkred\" stroke-linejoin=\"miter\" fill=\"none\" />\n<path d=\"M10,175.0 L25,175.0\" stroke-width=\"3\" stroke=\"darkred\" stroke-linejoin=\"miter\" fill=\"none\" />\n<path d=\"M25,75 L53,75 L72,94\" stroke=\"darkred\" stroke-width=\"3\" fill=\"none\" />\n<path d=\"M78,94 L97,75 L125,75\" stroke=\"darkred\" stroke-width=\"3\" fill=\"none\" />\n<path d=\"M25,125 L53,125 L72,106\" stroke=\"darkred\" stroke-width=\"3\" fill=\"none\" />\n<path d=\"M78,106 L97,125 L125,125\" stroke=\"darkred\" stroke-width=\"3\" fill=\"none\" />\n<path d=\"M50,93 L100,93 L100,107 L50,107 Z\" stroke=\"black\" fill=\"black\" stroke-linejoin=\"miter\" />\n<text x=\"75\" y=\"135\" font-size=\"7\" text-anchor=\"middle\"></text>\n<text x=\"75\" y=\"76\" font-size=\"7\" text-anchor=\"middle\"></text>\n<path d=\"M50,93 L100,93 L100,97 L50,97 Z\" stroke=\"black\" fill=\"lightgray\" stroke-linejoin=\"miter\" />\n<path d=\"M93,100 L103,100 L103,110 L93,110 Z\" stroke=\"black\" fill=\"aquamarine\" stroke-linejoin=\"miter\" />\n<text x=\"98\" y=\"107\" font-size=\"6\" text-anchor=\"middle\">H</text>\n<path d=\"M125,75 L175,75\" stroke=\"darkred\" stroke-width=\"3\" fill=\"none\" />\n<path d=\"M138,57 L152,57 L152,93 L138,93 Z\" stroke=\"black\" fill=\"gray\" stroke-linejoin=\"miter\" />\n<path d=\"M145,57 L145,93\" stroke=\"black\" stroke-width=\"1\" fill=\"none\" />\n<text x=\"153.5\" y=\"86\" font-size=\"7\" text-anchor=\"start\">ξ=pi/8</text>\n<text x=\"153.5\" y=\"95\" font-size=\"7\" text-anchor=\"start\">δ=pi/2</text>\n<path d=\"M175,75 L225,75\" stroke=\"darkred\" stroke-width=\"3\" fill=\"none\" />\n<path d=\"M188,57 L202,57 L202,93 L188,93 Z\" stroke=\"black\" fill=\"gray\" stroke-linejoin=\"miter\" />\n<path d=\"M195,57 L195,93\" stroke=\"black\" stroke-width=\"1\" fill=\"none\" />\n<text x=\"203.5\" y=\"86\" font-size=\"7\" text-anchor=\"start\">ξ=pi/8</text>\n<text x=\"203.5\" y=\"95\" font-size=\"7\" text-anchor=\"start\">δ=pi/2</text>\n<path d=\"M125,125.0 L225,125.0\" stroke=\"darkred\" stroke-width=\"3\" fill=\"none\" />\n<path d=\"M225,75 L253,75 L272,94\" stroke=\"darkred\" stroke-width=\"3\" fill=\"none\" />\n<path d=\"M278,94 L297,75 L325,75\" stroke=\"darkred\" stroke-width=\"3\" fill=\"none\" />\n<path d=\"M225,125 L253,125 L272,106\" stroke=\"darkred\" stroke-width=\"3\" fill=\"none\" />\n<path d=\"M278,106 L297,125 L325,125\" stroke=\"darkred\" stroke-width=\"3\" fill=\"none\" />\n<path d=\"M250,93 L300,93 L300,107 L250,107 Z\" stroke=\"black\" fill=\"black\" stroke-linejoin=\"miter\" />\n<text x=\"275\" y=\"135\" font-size=\"7\" text-anchor=\"middle\"></text>\n<text x=\"275\" y=\"76\" font-size=\"7\" text-anchor=\"middle\"></text>\n<path d=\"M250,93 L300,93 L300,97 L250,97 Z\" stroke=\"black\" fill=\"lightgray\" stroke-linejoin=\"miter\" />\n<path d=\"M293,100 L303,100 L303,110 L293,110 Z\" stroke=\"black\" fill=\"aquamarine\" stroke-linejoin=\"miter\" />\n<text x=\"298\" y=\"107\" font-size=\"6\" text-anchor=\"middle\">H</text>\n<path d=\"M25,25.0 L325,25.0\" stroke=\"darkred\" stroke-width=\"3\" fill=\"none\" />\n<path d=\"M325,25 L353,25 L362.5,37.5\" stroke=\"darkred\" stroke-width=\"3\" fill=\"none\" />\n<path d=\"M387.5,37.5 L397,25 L425,25\" stroke=\"darkred\" stroke-width=\"3\" fill=\"none\" />\n<path d=\"M325,75 L353,75 L362.5,62.5\" stroke=\"darkred\" stroke-width=\"3\" fill=\"none\" />\n<path d=\"M387.5,62.5 L397,75 L425,75\" stroke=\"darkred\" stroke-width=\"3\" fill=\"none\" />\n<path d=\"M387.5,62.5 L397,75 L425,75\" stroke=\"darkred\" stroke-width=\"3\" fill=\"none\" />\n<path d=\"M350,50 L375,24 L400,50 L375,76 L350,50 Z\" stroke=\"black\" fill=\"gray\" stroke-linejoin=\"miter\" />\n<path d=\"M350,50 L400,50\" stroke=\"black\" stroke-width=\"1\" fill=\"none\" />\n<text x=\"375\" y=\"86\" font-size=\"7\" text-anchor=\"middle\"></text>\n<path d=\"M25,175.0 L325,175.0\" stroke=\"darkred\" stroke-width=\"3\" fill=\"none\" />\n<path d=\"M325,125 L353,125 L362.5,137.5\" stroke=\"darkred\" stroke-width=\"3\" fill=\"none\" />\n<path d=\"M387.5,137.5 L397,125 L425,125\" stroke=\"darkred\" stroke-width=\"3\" fill=\"none\" />\n<path d=\"M325,175 L353,175 L362.5,162.5\" stroke=\"darkred\" stroke-width=\"3\" fill=\"none\" />\n<path d=\"M387.5,162.5 L397,175 L425,175\" stroke=\"darkred\" stroke-width=\"3\" fill=\"none\" />\n<path d=\"M387.5,162.5 L397,175 L425,175\" stroke=\"darkred\" stroke-width=\"3\" fill=\"none\" />\n<path d=\"M350,150 L375,124 L400,150 L375,176 L350,150 Z\" stroke=\"black\" fill=\"gray\" stroke-linejoin=\"miter\" />\n<path d=\"M350,150 L400,150\" stroke=\"black\" stroke-width=\"1\" fill=\"none\" />\n<text x=\"375\" y=\"186\" font-size=\"7\" text-anchor=\"middle\"></text>\n<path d=\"M425,75 L475,75\" stroke=\"darkred\" stroke-width=\"3\" fill=\"none\" />\n<path d=\"M438,57 L452,57 L452,93 L438,93 Z\" stroke=\"black\" fill=\"gray\" stroke-linejoin=\"miter\" />\n<path d=\"M445,57 L445,93\" stroke=\"black\" stroke-width=\"1\" fill=\"none\" />\n<text x=\"453.5\" y=\"86\" font-size=\"7\" text-anchor=\"start\">ξ=pi/8</text>\n<text x=\"453.5\" y=\"95\" font-size=\"7\" text-anchor=\"start\">δ=pi/2</text>\n<path d=\"M425,125 L475,125\" stroke=\"darkred\" stroke-width=\"3\" fill=\"none\" />\n<path d=\"M438,107 L452,107 L452,143 L438,143 Z\" stroke=\"black\" fill=\"gray\" stroke-linejoin=\"miter\" />\n<path d=\"M445,107 L445,143\" stroke=\"black\" stroke-width=\"1\" fill=\"none\" />\n<text x=\"453.5\" y=\"136\" font-size=\"7\" text-anchor=\"start\">ξ=pi/8</text>\n<text x=\"453.5\" y=\"145\" font-size=\"7\" text-anchor=\"start\">δ=pi/2</text>\n<path d=\"M475,75 L525,75\" stroke=\"darkred\" stroke-width=\"3\" fill=\"none\" />\n<path d=\"M480,90 L489,90 L503,60 L494,60 L480,90 L489,90 Z\" stroke=\"black\" fill=\"gray\" stroke-linejoin=\"miter\" />\n<text x=\"497\" y=\"88\" font-size=\"7\" text-anchor=\"start\">Φ=pi</text>\n<path d=\"M475,125 L525,125\" stroke=\"darkred\" stroke-width=\"3\" fill=\"none\" />\n<path d=\"M480,140 L489,140 L503,110 L494,110 L480,140 L489,140 Z\" stroke=\"black\" fill=\"gray\" stroke-linejoin=\"miter\" />\n<text x=\"497\" y=\"138\" font-size=\"7\" text-anchor=\"start\">Φ=pi</text>\n<path d=\"M525,75 L553,75 L572,94\" stroke=\"darkred\" stroke-width=\"3\" fill=\"none\" />\n<path d=\"M578,94 L597,75 L625,75\" stroke=\"darkred\" stroke-width=\"3\" fill=\"none\" />\n<path d=\"M525,125 L553,125 L572,106\" stroke=\"darkred\" stroke-width=\"3\" fill=\"none\" />\n<path d=\"M578,106 L597,125 L625,125\" stroke=\"darkred\" stroke-width=\"3\" fill=\"none\" />\n<path d=\"M550,93 L600,93 L600,107 L550,107 Z\" stroke=\"black\" fill=\"black\" stroke-linejoin=\"miter\" />\n<text x=\"575\" y=\"135\" font-size=\"7\" text-anchor=\"middle\"></text>\n<text x=\"575\" y=\"76\" font-size=\"7\" text-anchor=\"middle\"></text>\n<path d=\"M550,93 L600,93 L600,97 L550,97 Z\" stroke=\"black\" fill=\"lightgray\" stroke-linejoin=\"miter\" />\n<path d=\"M593,100 L603,100 L603,110 L593,110 Z\" stroke=\"black\" fill=\"aquamarine\" stroke-linejoin=\"miter\" />\n<text x=\"598\" y=\"107\" font-size=\"6\" text-anchor=\"middle\">H</text>\n<path d=\"M425,25.0 L625,25.0\" stroke=\"darkred\" stroke-width=\"3\" fill=\"none\" />\n<path d=\"M625,25 L653,25 L662.5,37.5\" stroke=\"darkred\" stroke-width=\"3\" fill=\"none\" />\n<path d=\"M687.5,37.5 L697,25 L725,25\" stroke=\"darkred\" stroke-width=\"3\" fill=\"none\" />\n<path d=\"M625,75 L653,75 L662.5,62.5\" stroke=\"darkred\" stroke-width=\"3\" fill=\"none\" />\n<path d=\"M687.5,62.5 L697,75 L725,75\" stroke=\"darkred\" stroke-width=\"3\" fill=\"none\" />\n<path d=\"M687.5,62.5 L697,75 L725,75\" stroke=\"darkred\" stroke-width=\"3\" fill=\"none\" />\n<path d=\"M650,50 L675,24 L700,50 L675,76 L650,50 Z\" stroke=\"black\" fill=\"gray\" stroke-linejoin=\"miter\" />\n<path d=\"M650,50 L700,50\" stroke=\"black\" stroke-width=\"1\" fill=\"none\" />\n<text x=\"675\" y=\"86\" font-size=\"7\" text-anchor=\"middle\"></text>\n<path d=\"M425,175.0 L625,175.0\" stroke=\"darkred\" stroke-width=\"3\" fill=\"none\" />\n<path d=\"M625,125 L653,125 L662.5,137.5\" stroke=\"darkred\" stroke-width=\"3\" fill=\"none\" />\n<path d=\"M687.5,137.5 L697,125 L725,125\" stroke=\"darkred\" stroke-width=\"3\" fill=\"none\" />\n<path d=\"M625,175 L653,175 L662.5,162.5\" stroke=\"darkred\" stroke-width=\"3\" fill=\"none\" />\n<path d=\"M687.5,162.5 L697,175 L725,175\" stroke=\"darkred\" stroke-width=\"3\" fill=\"none\" />\n<path d=\"M687.5,162.5 L697,175 L725,175\" stroke=\"darkred\" stroke-width=\"3\" fill=\"none\" />\n<path d=\"M650,150 L675,124 L700,150 L675,176 L650,150 Z\" stroke=\"black\" fill=\"gray\" stroke-linejoin=\"miter\" />\n<path d=\"M650,150 L700,150\" stroke=\"black\" stroke-width=\"1\" fill=\"none\" />\n<text x=\"675\" y=\"186\" font-size=\"7\" text-anchor=\"middle\"></text>\n<path d=\"M725,75 L775,75\" stroke=\"darkred\" stroke-width=\"3\" fill=\"none\" />\n<path d=\"M738,57 L752,57 L752,93 L738,93 Z\" stroke=\"black\" fill=\"gray\" stroke-linejoin=\"miter\" />\n<path d=\"M745,57 L745,93\" stroke=\"black\" stroke-width=\"1\" fill=\"none\" />\n<text x=\"753.5\" y=\"86\" font-size=\"7\" text-anchor=\"start\">ξ=pi/8</text>\n<text x=\"753.5\" y=\"95\" font-size=\"7\" text-anchor=\"start\">δ=pi/2</text>\n<path d=\"M725,125 L775,125\" stroke=\"darkred\" stroke-width=\"3\" fill=\"none\" />\n<path d=\"M738,107 L752,107 L752,143 L738,143 Z\" stroke=\"black\" fill=\"gray\" stroke-linejoin=\"miter\" />\n<path d=\"M745,107 L745,143\" stroke=\"black\" stroke-width=\"1\" fill=\"none\" />\n<text x=\"753.5\" y=\"136\" font-size=\"7\" text-anchor=\"start\">ξ=pi/8</text>\n<text x=\"753.5\" y=\"145\" font-size=\"7\" text-anchor=\"start\">δ=pi/2</text>\n<path d=\"M725,25.0 L775,25.0\" stroke=\"darkred\" stroke-width=\"3\" fill=\"none\" />\n<path d=\"M725,175.0 L775,175.0\" stroke=\"darkred\" stroke-width=\"3\" fill=\"none\" />\n<path d=\"M775,25.0 L790,25.0\" stroke-width=\"3\" stroke=\"darkred\" stroke-linejoin=\"miter\" fill=\"none\" />\n<path d=\"M775,75.0 L790,75.0\" stroke-width=\"3\" stroke=\"darkred\" stroke-linejoin=\"miter\" fill=\"none\" />\n<path d=\"M775,125.0 L790,125.0\" stroke-width=\"3\" stroke=\"darkred\" stroke-linejoin=\"miter\" fill=\"none\" />\n<path d=\"M775,175.0 L790,175.0\" stroke-width=\"3\" stroke=\"darkred\" stroke-linejoin=\"miter\" fill=\"none\" />\n<text x=\"800\" y=\"28.0\" font-size=\"6\" text-anchor=\"end\">0</text>\n<text x=\"800\" y=\"78.0\" font-size=\"6\" text-anchor=\"end\">1</text>\n<text x=\"800\" y=\"128.0\" font-size=\"6\" text-anchor=\"end\">2</text>\n<text x=\"800\" y=\"178.0\" font-size=\"6\" text-anchor=\"end\">3</text>\n<text x=\"0\" y=\"28.0\" font-size=\"6\" text-anchor=\"start\">0</text>\n<text x=\"0\" y=\"78.0\" font-size=\"6\" text-anchor=\"start\">1</text>\n<text x=\"0\" y=\"128.0\" font-size=\"6\" text-anchor=\"start\">2</text>\n<text x=\"0\" y=\"178.0\" font-size=\"6\" text-anchor=\"start\">3</text>\n</svg>"
          },
          "metadata": {},
          "execution_count": 7
        }
      ]
    },
    {
      "cell_type": "code",
      "source": [
        "processor = pcvl.Processor(\"SLOS\", grover)\n",
        "processor.add_port(0, Port(Encoding.DUAL_RAIL, 'port1'))\n",
        "processor.add_port(2, Port(Encoding.DUAL_RAIL, 'port2'))"
      ],
      "metadata": {
        "colab": {
          "base_uri": "https://localhost:8080/"
        },
        "id": "pyY_JYyWU2fo",
        "outputId": "d634e345-e0fb-415d-94fc-1257715ad208"
      },
      "execution_count": 9,
      "outputs": [
        {
          "output_type": "execute_result",
          "data": {
            "text/plain": [
              "<perceval.components.processor.Processor at 0x7c2c1b673950>"
            ]
          },
          "metadata": {},
          "execution_count": 9
        }
      ]
    },
    {
      "cell_type": "code",
      "source": [
        "pcvl.pdisplay(processor, recursive=True)"
      ],
      "metadata": {
        "colab": {
          "base_uri": "https://localhost:8080/",
          "height": 302
        },
        "id": "oHB6jE-DU35_",
        "outputId": "15673964-791d-49da-af8a-2a602f682e00"
      },
      "execution_count": 10,
      "outputs": [
        {
          "output_type": "execute_result",
          "data": {
            "text/plain": [
              "<drawsvg.drawing.Drawing at 0x7c2c1b7697d0>"
            ],
            "image/svg+xml": "<?xml version=\"1.0\" encoding=\"UTF-8\"?>\n<svg xmlns=\"http://www.w3.org/2000/svg\" xmlns:xlink=\"http://www.w3.org/1999/xlink\"\n     width=\"1120.0\" height=\"281.25\" viewBox=\"-48.0 0 896.0 225.0\">\n<defs>\n</defs>\n<path d=\"M10,25.0 L25,25.0\" stroke-width=\"3\" stroke=\"darkred\" stroke-linejoin=\"miter\" fill=\"none\" />\n<path d=\"M10,75.0 L25,75.0\" stroke-width=\"3\" stroke=\"darkred\" stroke-linejoin=\"miter\" fill=\"none\" />\n<path d=\"M10,125.0 L25,125.0\" stroke-width=\"3\" stroke=\"darkred\" stroke-linejoin=\"miter\" fill=\"none\" />\n<path d=\"M10,175.0 L25,175.0\" stroke-width=\"3\" stroke=\"darkred\" stroke-linejoin=\"miter\" fill=\"none\" />\n<path d=\"M27,2 L773,2 L773,198 L27,198 Z\" stroke=\"black\" fill=\"lightblue\" stroke-dasharray=\"1,2\" stroke-linejoin=\"miter\" />\n<text x=\"29\" y=\"205\" font-size=\"8\" text-anchor=\"start\">CPLX</text>\n<path d=\"M25,75 L53,75 L72,94\" stroke=\"darkred\" stroke-width=\"3\" fill=\"none\" />\n<path d=\"M78,94 L97,75 L125,75\" stroke=\"darkred\" stroke-width=\"3\" fill=\"none\" />\n<path d=\"M25,125 L53,125 L72,106\" stroke=\"darkred\" stroke-width=\"3\" fill=\"none\" />\n<path d=\"M78,106 L97,125 L125,125\" stroke=\"darkred\" stroke-width=\"3\" fill=\"none\" />\n<path d=\"M50,93 L100,93 L100,107 L50,107 Z\" stroke=\"black\" fill=\"black\" stroke-linejoin=\"miter\" />\n<text x=\"75\" y=\"135\" font-size=\"7\" text-anchor=\"middle\"></text>\n<text x=\"75\" y=\"76\" font-size=\"7\" text-anchor=\"middle\"></text>\n<path d=\"M50,93 L100,93 L100,97 L50,97 Z\" stroke=\"black\" fill=\"lightgray\" stroke-linejoin=\"miter\" />\n<path d=\"M93,100 L103,100 L103,110 L93,110 Z\" stroke=\"black\" fill=\"aquamarine\" stroke-linejoin=\"miter\" />\n<text x=\"98\" y=\"107\" font-size=\"6\" text-anchor=\"middle\">H</text>\n<path d=\"M125,75 L175,75\" stroke=\"darkred\" stroke-width=\"3\" fill=\"none\" />\n<path d=\"M138,57 L152,57 L152,93 L138,93 Z\" stroke=\"black\" fill=\"gray\" stroke-linejoin=\"miter\" />\n<path d=\"M145,57 L145,93\" stroke=\"black\" stroke-width=\"1\" fill=\"none\" />\n<text x=\"153.5\" y=\"86\" font-size=\"7\" text-anchor=\"start\">ξ=pi/8</text>\n<text x=\"153.5\" y=\"95\" font-size=\"7\" text-anchor=\"start\">δ=pi/2</text>\n<path d=\"M175,75 L225,75\" stroke=\"darkred\" stroke-width=\"3\" fill=\"none\" />\n<path d=\"M188,57 L202,57 L202,93 L188,93 Z\" stroke=\"black\" fill=\"gray\" stroke-linejoin=\"miter\" />\n<path d=\"M195,57 L195,93\" stroke=\"black\" stroke-width=\"1\" fill=\"none\" />\n<text x=\"203.5\" y=\"86\" font-size=\"7\" text-anchor=\"start\">ξ=pi/8</text>\n<text x=\"203.5\" y=\"95\" font-size=\"7\" text-anchor=\"start\">δ=pi/2</text>\n<path d=\"M125,125.0 L225,125.0\" stroke=\"darkred\" stroke-width=\"3\" fill=\"none\" />\n<path d=\"M225,75 L253,75 L272,94\" stroke=\"darkred\" stroke-width=\"3\" fill=\"none\" />\n<path d=\"M278,94 L297,75 L325,75\" stroke=\"darkred\" stroke-width=\"3\" fill=\"none\" />\n<path d=\"M225,125 L253,125 L272,106\" stroke=\"darkred\" stroke-width=\"3\" fill=\"none\" />\n<path d=\"M278,106 L297,125 L325,125\" stroke=\"darkred\" stroke-width=\"3\" fill=\"none\" />\n<path d=\"M250,93 L300,93 L300,107 L250,107 Z\" stroke=\"black\" fill=\"black\" stroke-linejoin=\"miter\" />\n<text x=\"275\" y=\"135\" font-size=\"7\" text-anchor=\"middle\"></text>\n<text x=\"275\" y=\"76\" font-size=\"7\" text-anchor=\"middle\"></text>\n<path d=\"M250,93 L300,93 L300,97 L250,97 Z\" stroke=\"black\" fill=\"lightgray\" stroke-linejoin=\"miter\" />\n<path d=\"M293,100 L303,100 L303,110 L293,110 Z\" stroke=\"black\" fill=\"aquamarine\" stroke-linejoin=\"miter\" />\n<text x=\"298\" y=\"107\" font-size=\"6\" text-anchor=\"middle\">H</text>\n<path d=\"M25,25.0 L325,25.0\" stroke=\"darkred\" stroke-width=\"3\" fill=\"none\" />\n<path d=\"M325,25 L353,25 L362.5,37.5\" stroke=\"darkred\" stroke-width=\"3\" fill=\"none\" />\n<path d=\"M387.5,37.5 L397,25 L425,25\" stroke=\"darkred\" stroke-width=\"3\" fill=\"none\" />\n<path d=\"M325,75 L353,75 L362.5,62.5\" stroke=\"darkred\" stroke-width=\"3\" fill=\"none\" />\n<path d=\"M387.5,62.5 L397,75 L425,75\" stroke=\"darkred\" stroke-width=\"3\" fill=\"none\" />\n<path d=\"M387.5,62.5 L397,75 L425,75\" stroke=\"darkred\" stroke-width=\"3\" fill=\"none\" />\n<path d=\"M350,50 L375,24 L400,50 L375,76 L350,50 Z\" stroke=\"black\" fill=\"gray\" stroke-linejoin=\"miter\" />\n<path d=\"M350,50 L400,50\" stroke=\"black\" stroke-width=\"1\" fill=\"none\" />\n<text x=\"375\" y=\"86\" font-size=\"7\" text-anchor=\"middle\"></text>\n<path d=\"M25,175.0 L325,175.0\" stroke=\"darkred\" stroke-width=\"3\" fill=\"none\" />\n<path d=\"M325,125 L353,125 L362.5,137.5\" stroke=\"darkred\" stroke-width=\"3\" fill=\"none\" />\n<path d=\"M387.5,137.5 L397,125 L425,125\" stroke=\"darkred\" stroke-width=\"3\" fill=\"none\" />\n<path d=\"M325,175 L353,175 L362.5,162.5\" stroke=\"darkred\" stroke-width=\"3\" fill=\"none\" />\n<path d=\"M387.5,162.5 L397,175 L425,175\" stroke=\"darkred\" stroke-width=\"3\" fill=\"none\" />\n<path d=\"M387.5,162.5 L397,175 L425,175\" stroke=\"darkred\" stroke-width=\"3\" fill=\"none\" />\n<path d=\"M350,150 L375,124 L400,150 L375,176 L350,150 Z\" stroke=\"black\" fill=\"gray\" stroke-linejoin=\"miter\" />\n<path d=\"M350,150 L400,150\" stroke=\"black\" stroke-width=\"1\" fill=\"none\" />\n<text x=\"375\" y=\"186\" font-size=\"7\" text-anchor=\"middle\"></text>\n<path d=\"M425,75 L475,75\" stroke=\"darkred\" stroke-width=\"3\" fill=\"none\" />\n<path d=\"M438,57 L452,57 L452,93 L438,93 Z\" stroke=\"black\" fill=\"gray\" stroke-linejoin=\"miter\" />\n<path d=\"M445,57 L445,93\" stroke=\"black\" stroke-width=\"1\" fill=\"none\" />\n<text x=\"453.5\" y=\"86\" font-size=\"7\" text-anchor=\"start\">ξ=pi/8</text>\n<text x=\"453.5\" y=\"95\" font-size=\"7\" text-anchor=\"start\">δ=pi/2</text>\n<path d=\"M425,125 L475,125\" stroke=\"darkred\" stroke-width=\"3\" fill=\"none\" />\n<path d=\"M438,107 L452,107 L452,143 L438,143 Z\" stroke=\"black\" fill=\"gray\" stroke-linejoin=\"miter\" />\n<path d=\"M445,107 L445,143\" stroke=\"black\" stroke-width=\"1\" fill=\"none\" />\n<text x=\"453.5\" y=\"136\" font-size=\"7\" text-anchor=\"start\">ξ=pi/8</text>\n<text x=\"453.5\" y=\"145\" font-size=\"7\" text-anchor=\"start\">δ=pi/2</text>\n<path d=\"M475,75 L525,75\" stroke=\"darkred\" stroke-width=\"3\" fill=\"none\" />\n<path d=\"M480,90 L489,90 L503,60 L494,60 L480,90 L489,90 Z\" stroke=\"black\" fill=\"gray\" stroke-linejoin=\"miter\" />\n<text x=\"497\" y=\"88\" font-size=\"7\" text-anchor=\"start\">Φ=pi</text>\n<path d=\"M475,125 L525,125\" stroke=\"darkred\" stroke-width=\"3\" fill=\"none\" />\n<path d=\"M480,140 L489,140 L503,110 L494,110 L480,140 L489,140 Z\" stroke=\"black\" fill=\"gray\" stroke-linejoin=\"miter\" />\n<text x=\"497\" y=\"138\" font-size=\"7\" text-anchor=\"start\">Φ=pi</text>\n<path d=\"M525,75 L553,75 L572,94\" stroke=\"darkred\" stroke-width=\"3\" fill=\"none\" />\n<path d=\"M578,94 L597,75 L625,75\" stroke=\"darkred\" stroke-width=\"3\" fill=\"none\" />\n<path d=\"M525,125 L553,125 L572,106\" stroke=\"darkred\" stroke-width=\"3\" fill=\"none\" />\n<path d=\"M578,106 L597,125 L625,125\" stroke=\"darkred\" stroke-width=\"3\" fill=\"none\" />\n<path d=\"M550,93 L600,93 L600,107 L550,107 Z\" stroke=\"black\" fill=\"black\" stroke-linejoin=\"miter\" />\n<text x=\"575\" y=\"135\" font-size=\"7\" text-anchor=\"middle\"></text>\n<text x=\"575\" y=\"76\" font-size=\"7\" text-anchor=\"middle\"></text>\n<path d=\"M550,93 L600,93 L600,97 L550,97 Z\" stroke=\"black\" fill=\"lightgray\" stroke-linejoin=\"miter\" />\n<path d=\"M593,100 L603,100 L603,110 L593,110 Z\" stroke=\"black\" fill=\"aquamarine\" stroke-linejoin=\"miter\" />\n<text x=\"598\" y=\"107\" font-size=\"6\" text-anchor=\"middle\">H</text>\n<path d=\"M425,25.0 L625,25.0\" stroke=\"darkred\" stroke-width=\"3\" fill=\"none\" />\n<path d=\"M625,25 L653,25 L662.5,37.5\" stroke=\"darkred\" stroke-width=\"3\" fill=\"none\" />\n<path d=\"M687.5,37.5 L697,25 L725,25\" stroke=\"darkred\" stroke-width=\"3\" fill=\"none\" />\n<path d=\"M625,75 L653,75 L662.5,62.5\" stroke=\"darkred\" stroke-width=\"3\" fill=\"none\" />\n<path d=\"M687.5,62.5 L697,75 L725,75\" stroke=\"darkred\" stroke-width=\"3\" fill=\"none\" />\n<path d=\"M687.5,62.5 L697,75 L725,75\" stroke=\"darkred\" stroke-width=\"3\" fill=\"none\" />\n<path d=\"M650,50 L675,24 L700,50 L675,76 L650,50 Z\" stroke=\"black\" fill=\"gray\" stroke-linejoin=\"miter\" />\n<path d=\"M650,50 L700,50\" stroke=\"black\" stroke-width=\"1\" fill=\"none\" />\n<text x=\"675\" y=\"86\" font-size=\"7\" text-anchor=\"middle\"></text>\n<path d=\"M425,175.0 L625,175.0\" stroke=\"darkred\" stroke-width=\"3\" fill=\"none\" />\n<path d=\"M625,125 L653,125 L662.5,137.5\" stroke=\"darkred\" stroke-width=\"3\" fill=\"none\" />\n<path d=\"M687.5,137.5 L697,125 L725,125\" stroke=\"darkred\" stroke-width=\"3\" fill=\"none\" />\n<path d=\"M625,175 L653,175 L662.5,162.5\" stroke=\"darkred\" stroke-width=\"3\" fill=\"none\" />\n<path d=\"M687.5,162.5 L697,175 L725,175\" stroke=\"darkred\" stroke-width=\"3\" fill=\"none\" />\n<path d=\"M687.5,162.5 L697,175 L725,175\" stroke=\"darkred\" stroke-width=\"3\" fill=\"none\" />\n<path d=\"M650,150 L675,124 L700,150 L675,176 L650,150 Z\" stroke=\"black\" fill=\"gray\" stroke-linejoin=\"miter\" />\n<path d=\"M650,150 L700,150\" stroke=\"black\" stroke-width=\"1\" fill=\"none\" />\n<text x=\"675\" y=\"186\" font-size=\"7\" text-anchor=\"middle\"></text>\n<path d=\"M725,75 L775,75\" stroke=\"darkred\" stroke-width=\"3\" fill=\"none\" />\n<path d=\"M738,57 L752,57 L752,93 L738,93 Z\" stroke=\"black\" fill=\"gray\" stroke-linejoin=\"miter\" />\n<path d=\"M745,57 L745,93\" stroke=\"black\" stroke-width=\"1\" fill=\"none\" />\n<text x=\"753.5\" y=\"86\" font-size=\"7\" text-anchor=\"start\">ξ=pi/8</text>\n<text x=\"753.5\" y=\"95\" font-size=\"7\" text-anchor=\"start\">δ=pi/2</text>\n<path d=\"M725,125 L775,125\" stroke=\"darkred\" stroke-width=\"3\" fill=\"none\" />\n<path d=\"M738,107 L752,107 L752,143 L738,143 Z\" stroke=\"black\" fill=\"gray\" stroke-linejoin=\"miter\" />\n<path d=\"M745,107 L745,143\" stroke=\"black\" stroke-width=\"1\" fill=\"none\" />\n<text x=\"753.5\" y=\"136\" font-size=\"7\" text-anchor=\"start\">ξ=pi/8</text>\n<text x=\"753.5\" y=\"145\" font-size=\"7\" text-anchor=\"start\">δ=pi/2</text>\n<path d=\"M725,25.0 L775,25.0\" stroke=\"darkred\" stroke-width=\"3\" fill=\"none\" />\n<path d=\"M725,175.0 L775,175.0\" stroke=\"darkred\" stroke-width=\"3\" fill=\"none\" />\n<path d=\"M775,25.0 L790,25.0\" stroke-width=\"3\" stroke=\"darkred\" stroke-linejoin=\"miter\" fill=\"none\" />\n<path d=\"M775,75.0 L790,75.0\" stroke-width=\"3\" stroke=\"darkred\" stroke-linejoin=\"miter\" fill=\"none\" />\n<path d=\"M775,125.0 L790,125.0\" stroke-width=\"3\" stroke=\"darkred\" stroke-linejoin=\"miter\" fill=\"none\" />\n<path d=\"M775,175.0 L790,175.0\" stroke-width=\"3\" stroke=\"darkred\" stroke-linejoin=\"miter\" fill=\"none\" />\n<path d=\"M-2,15 L10,15 L10,85 L-2,85 Z\" stroke=\"black\" fill=\"lightgray\" stroke-linejoin=\"miter\" />\n<text x=\"-2\" y=\"91\" font-size=\"6\" text-anchor=\"start\" font-style=\"italic\">[port1]</text>\n<path d=\"M-2,115 L10,115 L10,185 L-2,185 Z\" stroke=\"black\" fill=\"lightgray\" stroke-linejoin=\"miter\" />\n<text x=\"-2\" y=\"191\" font-size=\"6\" text-anchor=\"start\" font-style=\"italic\">[port2]</text>\n<path d=\"M790,15 L802,15 L802,85 L790,85 Z\" stroke=\"black\" fill=\"lightgray\" stroke-linejoin=\"miter\" />\n<text x=\"802\" y=\"91\" font-size=\"6\" text-anchor=\"end\" font-style=\"italic\">[port1]</text>\n<path d=\"M790,115 L802,115 L802,185 L790,185 Z\" stroke=\"black\" fill=\"lightgray\" stroke-linejoin=\"miter\" />\n<text x=\"802\" y=\"191\" font-size=\"6\" text-anchor=\"end\" font-style=\"italic\">[port2]</text>\n<text x=\"800\" y=\"28.0\" font-size=\"6\" text-anchor=\"end\">0</text>\n<text x=\"800\" y=\"78.0\" font-size=\"6\" text-anchor=\"end\">1</text>\n<text x=\"800\" y=\"128.0\" font-size=\"6\" text-anchor=\"end\">2</text>\n<text x=\"800\" y=\"178.0\" font-size=\"6\" text-anchor=\"end\">3</text>\n<text x=\"0\" y=\"28.0\" font-size=\"6\" text-anchor=\"start\">0</text>\n<text x=\"0\" y=\"78.0\" font-size=\"6\" text-anchor=\"start\">1</text>\n<text x=\"0\" y=\"128.0\" font-size=\"6\" text-anchor=\"start\">2</text>\n<text x=\"0\" y=\"178.0\" font-size=\"6\" text-anchor=\"start\">3</text>\n</svg>"
          },
          "metadata": {},
          "execution_count": 10
        }
      ]
    },
    {
      "cell_type": "code",
      "source": [
        "input_state = pcvl.BasicState(\"|0,1,0,0>\")\n",
        "processor.with_input(input_state)\n",
        "sampler = pcvl.algorithm.Sampler(processor)\n",
        "sample_count = sampler.sample_count(10000)"
      ],
      "metadata": {
        "id": "u5OT36D7U6wj"
      },
      "execution_count": 11,
      "outputs": []
    },
    {
      "cell_type": "code",
      "source": [
        "print(sample_count['results'])"
      ],
      "metadata": {
        "colab": {
          "base_uri": "https://localhost:8080/"
        },
        "id": "Diul1eOQU8pD",
        "outputId": "2653e5e9-0947-4854-daaa-8a775c978926"
      },
      "execution_count": 12,
      "outputs": [
        {
          "output_type": "stream",
          "name": "stdout",
          "text": [
            "{\n",
            "  |0,0,1,0>: 10000\n",
            "}\n"
          ]
        }
      ]
    },
    {
      "cell_type": "code",
      "source": [
        "results_dict = dict(sample_count['results'])\n",
        "possible_keys = [\"|1,0,0,0>\", \"|0,1,0,0>\", \"|0,0,1,0>\", \"|0,0,0,1>\"]\n",
        "padded_results_dict = {}\n",
        "stringified_results_dict = {str(k): v for k, v in results_dict.items()}\n",
        "padded_results_dict = {k: int(stringified_results_dict.get(k, 0)) for k in possible_keys}\n",
        "\n",
        "print(padded_results_dict)\n"
      ],
      "metadata": {
        "colab": {
          "base_uri": "https://localhost:8080/"
        },
        "id": "LEQ6hTfrU99k",
        "outputId": "83d17b9f-342f-49d0-e40c-bfd531807baa"
      },
      "execution_count": 13,
      "outputs": [
        {
          "output_type": "stream",
          "name": "stdout",
          "text": [
            "{'|1,0,0,0>': 0, '|0,1,0,0>': 0, '|0,0,1,0>': 10000, '|0,0,0,1>': 0}\n"
          ]
        }
      ]
    },
    {
      "cell_type": "code",
      "source": [
        "import matplotlib.pyplot as plt\n",
        "\n",
        "detectors = [\"D0\", \"D1\", \"D2\", \"D3\"]\n",
        "values = list(padded_results_dict.values())\n",
        "\n",
        "fig = plt.figure(figsize = (10, 5))\n",
        "\n",
        "# creating the bar plot\n",
        "plt.bar(detectors, values, color ='gray',\n",
        "        width = 0.4)\n",
        "\n",
        "plt.xlabel(\"Detectors\")\n",
        "plt.ylabel(\"Shots measured\")\n",
        "plt.title(\"Photon detections across all detectors\")\n",
        "plt.show()"
      ],
      "metadata": {
        "colab": {
          "base_uri": "https://localhost:8080/",
          "height": 487
        },
        "id": "e171fthNU_Sc",
        "outputId": "c30eb291-0ad8-47fe-826a-f5e62914e5e0"
      },
      "execution_count": 14,
      "outputs": [
        {
          "output_type": "display_data",
          "data": {
            "text/plain": [
              "<Figure size 1000x500 with 1 Axes>"
            ],
            "image/png": "[encoded data removed]"
          },
          "metadata": {}
        }
      ]
    },
    {
      "cell_type": "markdown",
      "source": [
        "**Key finding**: These results match our Qiskit simulation, as the spatial mode qubits were detected in a single state (|w>) at detector 2. Therefore, Grover's algorithm was implemented successfully.\n"
      ],
      "metadata": {
        "id": "fAHrLAXFVEkQ"
      }
    },
    {
      "cell_type": "markdown",
      "source": [
        "# Grover's Algorithm With Noise"
      ],
      "metadata": {
        "id": "VHOpFKumVZWB"
      }
    },
    {
      "cell_type": "markdown",
      "source": [
        "Similar to what we did in Qiskit, we can create a more accurate simulation by infusing noise into our circuit.\n",
        "\n",
        "Because the Perceval framework doesn't include built-in customizable noise models, we can manually simulate noise by adding random phase shifters at different points in the circuit. To match realistic photonic NISQ devices, we will define the amount of phase shift as follows:"
      ],
      "metadata": {
        "id": "1P56rZ7lVkKn"
      }
    },
    {
      "cell_type": "code",
      "source": [
        "def random_phase_shift():\n",
        "   return np.random.uniform(0, np.pi/6)"
      ],
      "metadata": {
        "id": "FvgR_IJlVo-r"
      },
      "execution_count": 15,
      "outputs": []
    },
    {
      "cell_type": "markdown",
      "source": [
        "Now, we can go through the full implementation."
      ],
      "metadata": {
        "id": "wuwov7OCV8lG"
      }
    },
    {
      "cell_type": "code",
      "source": [
        "def create_grovers_with_noise(phase_noise):\n",
        "  grover = (pcvl.Circuit(4)\n",
        "        .add(1, comp.BS().H())\n",
        "\n",
        "        .add(0, comp.PS(phase_noise))\n",
        "        .add(1, comp.PS(phase_noise))\n",
        "\n",
        "        .add(1, comp.WP(delta=delta1, xsi=xsi1)) # oracle marking\n",
        "        .add(1, comp.WP(delta=delta1, xsi=xsi1)) # oracle marking\n",
        "\n",
        "        .add(1, comp.BS().H())\n",
        "        .add(0, comp.PBS())\n",
        "        .add(2, comp.PBS())\n",
        "\n",
        "        .add(1, comp.WP(delta=delta1, xsi=xsi1))\n",
        "        .add(2, comp.WP(delta=delta1, xsi=xsi1))\n",
        "\n",
        "        .add(1, comp.PS(np.pi))\n",
        "        .add(2, comp.PS(np.pi))\n",
        "\n",
        "        .add(1, comp.BS().H())\n",
        "        .add(0, comp.PBS())\n",
        "        .add(2, comp.PBS())\n",
        "\n",
        "        .add(1, comp.WP(delta=delta1, xsi=xsi1))\n",
        "        .add(2, comp.WP(delta=delta1, xsi=xsi1)))\n",
        "  return grover\n"
      ],
      "metadata": {
        "id": "A6UIbg1tV68k"
      },
      "execution_count": 16,
      "outputs": []
    },
    {
      "cell_type": "code",
      "source": [
        "def simulate_circuit_with_noise(phase_noise, shots=10000):\n",
        "  mzi = create_grovers_with_noise(phase_noise)\n",
        "  processor = pcvl.Processor(\"SLOS\", mzi)\n",
        "  processor.add_port(0, Port(Encoding.DUAL_RAIL, 'port1'))\n",
        "  processor.add_port(2, Port(Encoding.DUAL_RAIL, 'port2'))\n",
        "  input_state = pcvl.BasicState(\"|0,1,0,0>\")\n",
        "  processor.with_input(input_state)\n",
        "  sampler = pcvl.algorithm.Sampler(processor)\n",
        "  sample_count = sampler.sample_count(10000)\n",
        "  counts = sample_count['results']\n",
        "  return counts"
      ],
      "metadata": {
        "id": "RAOccpd-WD7z"
      },
      "execution_count": 17,
      "outputs": []
    },
    {
      "cell_type": "code",
      "source": [
        "noise_levels = np.linspace(0, np.pi/6, 50)  # Noise levels from 0 to pi/6\n",
        "results = []\n",
        "\n",
        "for noise in noise_levels:\n",
        "    counts = simulate_circuit_with_noise(phase_noise=noise)\n",
        "    new_dict = {}\n",
        "    for i, key in enumerate(list(dict(counts).keys())):\n",
        "      new_dict[str(key)] = list(dict(counts).values())[i]\n",
        "\n",
        "    marked_count = new_dict.get('|0,0,1,0>', 0)\n",
        "    accuracy = marked_count / 10000  # Normalize to get accuracy\n",
        "    results.append((noise, accuracy))\n",
        "\n",
        "# Prepare the data for ML training\n",
        "X = np.array([x[0] for x in results]).reshape(-1, 1)  # Noise levels\n",
        "y = np.array([x[1] for x in results])  # Accuracy"
      ],
      "metadata": {
        "id": "rhA214zVWGbH"
      },
      "execution_count": 18,
      "outputs": []
    },
    {
      "cell_type": "code",
      "source": [
        "from sklearn.model_selection import train_test_split\n",
        "from sklearn.linear_model import LinearRegression\n",
        "from sklearn.metrics import mean_squared_error, r2_score\n",
        "\n",
        "# Split the data into training and testing sets\n",
        "X_train, X_test, y_train, y_test = train_test_split(X, y, test_size=0.2, random_state=42)\n",
        "\n",
        "# Train a linear regression model\n",
        "model = LinearRegression()\n",
        "model.fit(X_train, y_train)\n",
        "\n",
        "# Predict on the test set\n",
        "y_pred = model.predict(X_test)\n",
        "\n",
        "# Evaluate the model\n",
        "mse = mean_squared_error(y_test, y_pred)\n",
        "r2 = r2_score(y_test, y_pred)\n",
        "\n",
        "print(\"Mean Squared Error:\", mse)\n",
        "print(\"R-squared:\", r2)\n",
        "\n",
        "# Predict accuracy for a new noise level\n",
        "new_noise_level = np.pi / 16\n",
        "predicted_accuracy = model.predict([[new_noise_level]])\n",
        "print(f\"Predicted accuracy for noise level {new_noise_level:.3f}: {predicted_accuracy[0]:.3f}\")\n"
      ],
      "metadata": {
        "colab": {
          "base_uri": "https://localhost:8080/"
        },
        "id": "LP7pORrMWH-J",
        "outputId": "943cc4c1-62d6-4212-fdd4-2497befbd2c2"
      },
      "execution_count": 19,
      "outputs": [
        {
          "output_type": "stream",
          "name": "stdout",
          "text": [
            "Mean Squared Error: 4.650115729342853e-05\n",
            "R-squared: 0.8867043774306397\n",
            "Predicted accuracy for noise level 0.196: 0.985\n"
          ]
        }
      ]
    },
    {
      "cell_type": "markdown",
      "source": [
        "And finally, we can obtain a clean visualization of the linear regression model:"
      ],
      "metadata": {
        "id": "rTFHaaLpWSvW"
      }
    },
    {
      "cell_type": "code",
      "source": [
        "import matplotlib.pyplot as plt\n",
        "\n",
        "# Plot the true vs predicted values\n",
        "plt.scatter(X_test, y_test, color='blue', label='True values')\n",
        "plt.scatter(X_test, y_pred, color='red', label='Predicted values')\n",
        "plt.xlabel('Phase Noise (radians)')\n",
        "plt.ylabel('Accuracy')\n",
        "plt.title('Regression Model for Predicting Grover\\'s Algorithm Accuracy')\n",
        "plt.legend()\n",
        "plt.show()\n"
      ],
      "metadata": {
        "colab": {
          "base_uri": "https://localhost:8080/",
          "height": 472
        },
        "id": "Mkmyug8zWZH0",
        "outputId": "23b53129-7697-4017-94c1-a0cede617986"
      },
      "execution_count": 20,
      "outputs": [
        {
          "output_type": "display_data",
          "data": {
            "text/plain": [
              "<Figure size 640x480 with 1 Axes>"
            ],
            "image/png": "[encoded data removed]"
          },
          "metadata": {}
        }
      ]
    }
  ]
}